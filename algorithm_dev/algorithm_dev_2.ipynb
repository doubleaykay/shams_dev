{
 "cells": [
  {
   "cell_type": "code",
   "execution_count": 1,
   "metadata": {},
   "outputs": [],
   "source": [
    "import numpy as np\n",
    "import suncalc\n",
    "import drawSvg as draw\n",
    "\n",
    "# from numba import jit\n",
    "from datetime import datetime\n",
    "\n",
    "import colorsys\n",
    "\n",
    "import random\n",
    "# import pandas as pd"
   ]
  },
  {
   "cell_type": "code",
   "execution_count": 2,
   "metadata": {},
   "outputs": [],
   "source": [
    "def base_date_arr(year):\n",
    "    days = np.arange(str(year), str(year+1), dtype='datetime64[D]')\n",
    "\n",
    "    # get minutes in each day as row vector\n",
    "    lst = []\n",
    "    for day in days:\n",
    "        lst.append(np.arange(day, day+1, dtype='datetime64[m]'))\n",
    "\n",
    "    # construct np.array\n",
    "    lst_arr = np.array(lst)\n",
    "    # transpose to get minutes as column vectors\n",
    "    arr_dt64_noflip = lst_arr.T\n",
    "    # flip array along axis 0 since SVG is filled from bottom left corner\n",
    "    arr_dt64 = np.flip(arr_dt64_noflip, axis=0)\n",
    "    \n",
    "    return arr_dt64\n",
    "\n",
    "# get days in a year\n",
    "year = 2021\n",
    "arr_dt64 = base_date_arr(year)"
   ]
  },
  {
   "cell_type": "code",
   "execution_count": 3,
   "metadata": {
    "scrolled": true
   },
   "outputs": [
    {
     "name": "stderr",
     "output_type": "stream",
     "text": [
      "<ipython-input-3-0fefeeef9e42>:4: DeprecationWarning: parsing timezone aware datetimes is deprecated; this will raise an error in the future\n",
      "  ts = (dt64 - np.datetime64('1970-01-01T00:00:00Z')) / np.timedelta64(1, 's')\n"
     ]
    }
   ],
   "source": [
    "# convert from array of datetime64 to normal datetime with the UTC timestamp attached\n",
    "def dt64_to_dtUTC_noVec(dt64):\n",
    "    dt64 = np.datetime64(dt64)\n",
    "    ts = (dt64 - np.datetime64('1970-01-01T00:00:00Z')) / np.timedelta64(1, 's')\n",
    "    return datetime.utcfromtimestamp(ts)\n",
    "\n",
    "dt64_to_dtUTC = np.vectorize(dt64_to_dtUTC_noVec)\n",
    "\n",
    "arr_dtUTC = dt64_to_dtUTC(arr_dt64)"
   ]
  },
  {
   "cell_type": "code",
   "execution_count": 4,
   "metadata": {},
   "outputs": [],
   "source": [
    "# display(pd.DataFrame(arr_dtUTC))\n",
    "# type(arr_dtUTC[0,0])"
   ]
  },
  {
   "cell_type": "code",
   "execution_count": 5,
   "metadata": {},
   "outputs": [],
   "source": [
    "# display(pd.DataFrame(colored))"
   ]
  },
  {
   "cell_type": "code",
   "execution_count": 28,
   "metadata": {},
   "outputs": [],
   "source": [
    "# for each timestamp, get sun azimuth and altitude\n",
    "# then convert that into a color\n",
    "\n",
    "def translate(value, leftMin, leftMax, rightMin, rightMax):\n",
    "    # from https://stackoverflow.com/a/1969274\n",
    "    # Figure out how 'wide' each range is\n",
    "    leftSpan = leftMax - leftMin\n",
    "    rightSpan = rightMax - rightMin\n",
    "\n",
    "    # Convert the left range into a 0-1 range (float)\n",
    "    valueScaled = float(value - leftMin) / float(leftSpan)\n",
    "\n",
    "    # Convert the 0-1 range into a value in the right range.\n",
    "    return rightMin + (valueScaled * rightSpan)\n",
    "\n",
    "def pos_to_color(azi, alt):\n",
    "    # lumosity = angle from horizon = altitude\n",
    "    # hue = angle from north = azimuth\n",
    "    s = 100 / 100\n",
    "    \n",
    "    # l from 0 to 100\n",
    "    # h from 0 to 360\n",
    "    \n",
    "    h = translate(azi, -1*np.pi, np.pi, 0, 360)\n",
    "    l = translate(alt, -1*np.pi/2, np.pi/2, 0, 100) / 100\n",
    "    \n",
    "    # from https://stackoverflow.com/a/24852375\n",
    "    def hsv2rgb(h,l,s):\n",
    "        return tuple(round(i * 255) for i in colorsys.hls_to_rgb(h,l,s))\n",
    "    \n",
    "    # rgb = colorsys.hls_to_rgb(h, l, s)\n",
    "    rgb = hsv2rgb(h, l, s)\n",
    "    \n",
    "    # from https://stackoverflow.com/a/3380739\n",
    "    return '%02x%02x%02x' % rgb\n",
    "    # return str((np.rint(h), np.rint(l), np.rint(s)))\n",
    "    # return(str(rgb))\n",
    "\n",
    "def pos_noVec_old(ts, lon, lat):\n",
    "    azi_alt = suncalc.get_position(ts, lon, lat)\n",
    "    azi = azi_alt['azimuth']\n",
    "    alt = azi_alt['altitude']\n",
    "    # color = dan_color(azi, alt)\n",
    "    return azi_alt\n",
    "\n",
    "def pos_noVec(ts, lon, lat):\n",
    "    azi_alt = suncalc.get_position(ts, lon, lat)\n",
    "    azi = azi_alt['azimuth']\n",
    "    alt = azi_alt['altitude']\n",
    "    # color = dan_color(azi, alt)\n",
    "    return pos_to_color(azi, alt)\n",
    "\n",
    "pos = np.vectorize(pos_noVec)\n",
    "\n",
    "lon = 71.0589\n",
    "lat = 42.3601\n",
    "\n",
    "colored = pos(arr_dtUTC, lon, lat)\n",
    "# display(pd.DataFrame(out))"
   ]
  },
  {
   "cell_type": "code",
   "execution_count": null,
   "metadata": {},
   "outputs": [],
   "source": [
    "# arr_dtUTC.shape"
   ]
  },
  {
   "cell_type": "code",
   "execution_count": 32,
   "metadata": {},
   "outputs": [],
   "source": [
    "# import pandas as pd\n",
    "# display(pd.DataFrame(colored))"
   ]
  },
  {
   "cell_type": "code",
   "execution_count": null,
   "metadata": {},
   "outputs": [],
   "source": [
    "# # NOT IN USE\n",
    "# # TTD function to convert time into color\n",
    "# def time_to_color(time):\n",
    "#     color = \"%06x\" % random.randint(0, 0xFFFFFF)\n",
    "#     return color\n",
    "\n",
    "# vf = np.vectorize(time_to_color)\n",
    "\n",
    "# z = np.zeros((1440,365))\n",
    "\n",
    "# colored = vf(z)"
   ]
  },
  {
   "cell_type": "code",
   "execution_count": null,
   "metadata": {},
   "outputs": [],
   "source": [
    "# display(pd.DataFrame(colored))"
   ]
  },
  {
   "cell_type": "code",
   "execution_count": 31,
   "metadata": {},
   "outputs": [],
   "source": [
    "width = 1920\n",
    "height = 1080\n",
    "\n",
    "x_tick = width / 365 # days in a year\n",
    "y_tick = height / 1440 # min in a day\n",
    "\n",
    "d = draw.Drawing(width, height, displayInline=False)\n",
    "\n",
    "def gen_svg(colors, d, width, height, x_tick, y_tick):\n",
    "    # x is the axis 1 index\n",
    "    # y is the axis 0 index\n",
    "    # index tuple is (y,x)\n",
    "    \n",
    "    it = np.nditer(colors, flags=['multi_index'])\n",
    "    for color in it:\n",
    "        y = it.multi_index[0] * y_tick\n",
    "        x = it.multi_index[1] * x_tick\n",
    "        r = draw.Rectangle(x, y, x_tick, y_tick, fill=f'#{color}')\n",
    "        d.append(r)\n",
    "\n",
    "gen_svg(colored, d, width, height, x_tick, y_tick)\n",
    "\n",
    "d.setPixelScale(2)  # Set number of pixels per geometry unit\n",
    "\n",
    "# d.saveSvg('color_test.svg')\n",
    "# d  # Display as SVG\n",
    "d.savePng('color_test.png') # save as PNG"
   ]
  },
  {
   "cell_type": "code",
   "execution_count": null,
   "metadata": {},
   "outputs": [],
   "source": []
  },
  {
   "cell_type": "code",
   "execution_count": null,
   "metadata": {},
   "outputs": [],
   "source": []
  },
  {
   "cell_type": "code",
   "execution_count": null,
   "metadata": {},
   "outputs": [],
   "source": [
    "azi = []\n",
    "alt = []\n",
    "\n",
    "# out[0,0]['azimuth']\n",
    "\n",
    "for x in out:\n",
    "    azi.append(x[0]['azimuth'])\n",
    "    alt.append(x[0]['altitude'])\n",
    "\n",
    "np.min(azi) * 180. / np.pi\n",
    "np.max(azi) * 180. / np.pi\n",
    "np.min(alt) * 180. / np.pi\n",
    "np.max(alt) * 180. / np.pi"
   ]
  },
  {
   "cell_type": "code",
   "execution_count": null,
   "metadata": {},
   "outputs": [],
   "source": []
  },
  {
   "cell_type": "code",
   "execution_count": null,
   "metadata": {},
   "outputs": [],
   "source": []
  },
  {
   "cell_type": "code",
   "execution_count": null,
   "metadata": {},
   "outputs": [],
   "source": []
  },
  {
   "cell_type": "code",
   "execution_count": null,
   "metadata": {},
   "outputs": [],
   "source": []
  },
  {
   "cell_type": "code",
   "execution_count": null,
   "metadata": {},
   "outputs": [],
   "source": [
    "# azimuth range: -pi to pi\n",
    "# altitude range: -pi/2 to pi/2"
   ]
  }
 ],
 "metadata": {
  "kernelspec": {
   "display_name": "Python 3",
   "language": "python",
   "name": "python3"
  },
  "language_info": {
   "codemirror_mode": {
    "name": "ipython",
    "version": 3
   },
   "file_extension": ".py",
   "mimetype": "text/x-python",
   "name": "python",
   "nbconvert_exporter": "python",
   "pygments_lexer": "ipython3",
   "version": "3.8.5"
  }
 },
 "nbformat": 4,
 "nbformat_minor": 4
}
