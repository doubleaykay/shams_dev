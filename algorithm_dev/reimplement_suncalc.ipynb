{
 "cells": [
  {
   "cell_type": "code",
   "execution_count": null,
   "metadata": {},
   "outputs": [],
   "source": [
    "import numpy as np"
   ]
  },
  {
   "cell_type": "code",
   "execution_count": null,
   "metadata": {},
   "outputs": [],
   "source": [
    "rad = np.pi / 180\n",
    "\n",
    "# obliquity of the Earth\n",
    "e = rad * 23.4397\n",
    "\n",
    "def to_milliseconds(date):\n",
    "    # datetime.datetime\n",
    "    if isinstance(date, datetime):\n",
    "        return date.timestamp() * 1000\n",
    "\n",
    "    # Pandas series of Pandas datetime objects\n",
    "    if pd and pd.api.types.is_datetime64_any_dtype(date):\n",
    "        # A datetime-like series coerce to int is (always?) in nanoseconds\n",
    "        return date.astype(int) / 10 ** 6\n",
    "\n",
    "    # Single pandas Timestamp\n",
    "    if pd and isinstance(date, pd.Timestamp):\n",
    "        date = date.to_numpy()\n",
    "\n",
    "    # Numpy datetime64\n",
    "    if np.issubdtype(date.dtype, np.datetime64):\n",
    "        return date.astype('datetime64[ms]').astype('int')\n",
    "\n",
    "    # Last-ditch effort\n",
    "    if pd:\n",
    "        return np.array(pd.to_datetime(date).astype(int) / 10 ** 6)\n",
    "\n",
    "    raise ValueError(f'Unknown date type: {type(date)}')\n",
    "\n",
    "def to_julian(date):\n",
    "    return to_milliseconds(date) / dayMs - 0.5 + J1970\n",
    "\n",
    "def to_days(date):\n",
    "    return to_julian(date) - J2000"
   ]
  },
  {
   "cell_type": "code",
   "execution_count": null,
   "metadata": {},
   "outputs": [],
   "source": [
    "def solar_mean_anomaly(d):\n",
    "    return rad * (357.5291 + 0.98560028 * d)\n",
    "\n",
    "def ecliptic_longitude(M):\n",
    "    # equation of center\n",
    "    C = rad * (1.9148 * sin(M) + 0.02 * sin(2 * M) + 0.0003 * sin(3 * M))\n",
    "\n",
    "    # perihelion of the Earth\n",
    "    P = rad * 102.9372\n",
    "\n",
    "    return M + C + P + PI\n",
    "\n",
    "def declination(l, b):\n",
    "    return asin(sin(b) * cos(e) + cos(b) * sin(e) * sin(l))\n",
    "\n",
    "def right_ascension(l, b):\n",
    "    return atan(sin(l) * cos(e) - tan(b) * sin(e), cos(l))\n",
    "\n",
    "def sun_coords(d):\n",
    "    M = solar_mean_anomaly(d)\n",
    "    L = ecliptic_longitude(M)\n",
    "\n",
    "    return {'dec': declination(L, 0), 'ra': right_ascension(L, 0)}"
   ]
  },
  {
   "cell_type": "code",
   "execution_count": null,
   "metadata": {},
   "outputs": [],
   "source": [
    "def sidereal_time(d, lw):\n",
    "    return rad * (280.16 + 360.9856235 * d) - lw"
   ]
  },
  {
   "cell_type": "code",
   "execution_count": null,
   "metadata": {},
   "outputs": [],
   "source": [
    "def azimuth(H, phi, dec):\n",
    "    return atan(sin(H), cos(H) * sin(phi) - tan(dec) * cos(phi))\n",
    "\n",
    "def altitude(H, phi, dec):\n",
    "    return asin(sin(phi) * sin(dec) + cos(phi) * cos(dec) * cos(H))"
   ]
  },
  {
   "cell_type": "code",
   "execution_count": null,
   "metadata": {},
   "outputs": [],
   "source": [
    "def get_position(date, lng, lat):\n",
    "    \"\"\"Calculate sun position for a given date and latitude/longitude\n",
    "    \"\"\"\n",
    "    lw = rad * -lng\n",
    "    phi = rad * lat\n",
    "    d = to_days(date)\n",
    "\n",
    "    c = sun_coords(d)\n",
    "    H = sidereal_time(d, lw) - c['ra']\n",
    "\n",
    "    return {\n",
    "        'azimuth': azimuth(H, phi, c['dec']),\n",
    "        'altitude': altitude(H, phi, c['dec'])}"
   ]
  }
 ],
 "metadata": {
  "kernelspec": {
   "display_name": "Python 3",
   "language": "python",
   "name": "python3"
  },
  "language_info": {
   "codemirror_mode": {
    "name": "ipython",
    "version": 3
   },
   "file_extension": ".py",
   "mimetype": "text/x-python",
   "name": "python",
   "nbconvert_exporter": "python",
   "pygments_lexer": "ipython3",
   "version": "3.8.5"
  }
 },
 "nbformat": 4,
 "nbformat_minor": 4
}
