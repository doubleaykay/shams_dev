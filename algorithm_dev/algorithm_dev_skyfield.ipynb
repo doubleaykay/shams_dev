{
 "cells": [
  {
   "cell_type": "code",
   "execution_count": 1,
   "metadata": {},
   "outputs": [],
   "source": [
    "import numpy as np\n",
    "from skyfield.api import N, W, load, wgs84\n",
    "\n",
    "from datetime import datetime, timezone\n",
    "from tzwhere import tzwhere\n",
    "import pytz\n",
    "\n",
    "# import suncalc\n",
    "\n",
    "dt = datetime"
   ]
  },
  {
   "cell_type": "code",
   "execution_count": 2,
   "metadata": {},
   "outputs": [],
   "source": [
    "ts = load.timescale()"
   ]
  },
  {
   "cell_type": "code",
   "execution_count": 3,
   "metadata": {},
   "outputs": [],
   "source": [
    "lon = -71.0589\n",
    "lat = 42.3601"
   ]
  },
  {
   "cell_type": "code",
   "execution_count": 4,
   "metadata": {},
   "outputs": [
    {
     "name": "stdout",
     "output_type": "stream",
     "text": [
      "0:00:00.000029\n",
      "0:00:01.232468\n"
     ]
    }
   ],
   "source": [
    "# build list of times\n",
    "# do not reshape\n",
    "# TTD add back logic to handle daylight savings / timezones\n",
    "bef = dt.now()\n",
    "print(dt.now() - bef)\n",
    "year = 2021\n",
    "\n",
    "start_time = np.datetime64(str(year))\n",
    "end_time = np.datetime64(str(year + 1))\n",
    "\n",
    "arr_dt_1d = np.arange(start_time, end_time, dtype='datetime64[m]').astype(datetime)\n",
    "\n",
    "def to_utc_tz(dt):\n",
    "    return dt.replace(tzinfo=timezone.utc)\n",
    "\n",
    "arr_dt_1d = np.vectorize(to_utc_tz)(arr_dt_1d)\n",
    "\n",
    "date_arr = ts.from_datetimes(arr_dt_1d)\n",
    "print(dt.now() - bef)"
   ]
  },
  {
   "cell_type": "code",
   "execution_count": 5,
   "metadata": {},
   "outputs": [
    {
     "name": "stdout",
     "output_type": "stream",
     "text": [
      "0:00:00.005415\n"
     ]
    }
   ],
   "source": [
    "#  load skyfield stuff\n",
    "bef = dt.now()\n",
    "planets = load('de421.bsp')\n",
    "earth = planets['earth']\n",
    "sun = planets['sun']\n",
    "print(dt.now() - bef)"
   ]
  },
  {
   "cell_type": "code",
   "execution_count": 6,
   "metadata": {},
   "outputs": [],
   "source": [
    "# to get elevation\n",
    "# requires a web request... do we want to do this?\n",
    "# maybe scrape this information and build our own dataset that returns interpolated elev for lon/lat\n",
    "# https://gis.stackexchange.com/a/338407"
   ]
  },
  {
   "cell_type": "code",
   "execution_count": 7,
   "metadata": {},
   "outputs": [
    {
     "name": "stdout",
     "output_type": "stream",
     "text": [
      "0:00:52.246253\n"
     ]
    }
   ],
   "source": [
    "\n",
    "bef = dt.now()\n",
    "\n",
    "boston = earth + wgs84.latlon(42.3583 * N, 71.0603 * W, elevation_m=43)\n",
    "# astro = boston.at(ts.utc(1980, 3, 1)).observe(sun)\n",
    "astro = boston.at(date_arr).observe(sun)\n",
    "app = astro.apparent()\n",
    "\n",
    "# alt, az, distance = app.altaz()\n",
    "alt, az, distance = app.altaz()\n",
    "# print(alt.dstr())\n",
    "# print(az.dstr())\n",
    "# print(distance)\n",
    "\n",
    "alt_az = np.column_stack((alt.degrees, az.degrees))\n",
    "\n",
    "print(dt.now() - bef)"
   ]
  },
  {
   "cell_type": "code",
   "execution_count": 8,
   "metadata": {},
   "outputs": [],
   "source": [
    "# alt_az"
   ]
  },
  {
   "cell_type": "code",
   "execution_count": 9,
   "metadata": {},
   "outputs": [],
   "source": [
    "# sc = suncalc.get_position(arr_dt_1d, lon, lat)"
   ]
  },
  {
   "cell_type": "code",
   "execution_count": 10,
   "metadata": {},
   "outputs": [],
   "source": [
    "# np.column_stack((sc['azimuth'], sc['altitude']))"
   ]
  },
  {
   "cell_type": "code",
   "execution_count": null,
   "metadata": {},
   "outputs": [],
   "source": []
  }
 ],
 "metadata": {
  "kernelspec": {
   "display_name": "Python 3",
   "language": "python",
   "name": "python3"
  },
  "language_info": {
   "codemirror_mode": {
    "name": "ipython",
    "version": 3
   },
   "file_extension": ".py",
   "mimetype": "text/x-python",
   "name": "python",
   "nbconvert_exporter": "python",
   "pygments_lexer": "ipython3",
   "version": "3.8.5"
  }
 },
 "nbformat": 4,
 "nbformat_minor": 4
}
