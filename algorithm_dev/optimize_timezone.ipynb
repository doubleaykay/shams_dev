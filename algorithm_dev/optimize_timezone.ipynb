{
 "cells": [
  {
   "cell_type": "code",
   "execution_count": 2,
   "metadata": {},
   "outputs": [],
   "source": [
    "import numpy as np\n",
    "\n",
    "from datetime import datetime, timezone\n",
    "from tzwhere import tzwhere\n",
    "import pytz\n",
    "import timezonefinder"
   ]
  },
  {
   "cell_type": "code",
   "execution_count": 5,
   "metadata": {},
   "outputs": [],
   "source": [
    "# array of UTC timestamps as naive datetime objects\n",
    "def base_date_arr(year: int):\n",
    "    start_time = np.datetime64(str(year))\n",
    "    end_time = np.datetime64(str(year + 1))\n",
    "\n",
    "    arr_dt_1d = np.arange(start_time, end_time, dtype='datetime64[m]').astype(datetime)  # 1D array\n",
    "\n",
    "    return arr_dt_1d"
   ]
  },
  {
   "cell_type": "code",
   "execution_count": 6,
   "metadata": {},
   "outputs": [],
   "source": [
    "# array of naive timestamps to array of time zone aware timestamps\n",
    "def to_utc(arr, lon, lat, use_dst: bool):\n",
    "    # tz_str = tzwhere.tzwhere().tzNameAt(lat, lon)\n",
    "    \n",
    "    tz_str = timezonefinder.TimezoneFinder().certain_timezone_at(lat=lat, lng=lon)\n",
    "    tz = pytz.timezone(tz_str)\n",
    "\n",
    "    def one_dt_utc(dt):\n",
    "        dt_offset = (dt - offset)\n",
    "        return dt_offset.replace(tzinfo=timezone.utc)\n",
    "\n",
    "    def one_dt_localized(dt):\n",
    "        return tz.localize(dt).astimezone(pytz.utc)\n",
    "\n",
    "    if use_dst:\n",
    "        return np.vectorize(one_dt_localized)(arr)\n",
    "    else:\n",
    "        # offset = tz.utcoffset(arr[0, 0], is_dst=False)\n",
    "        offset = tz.utcoffset(arr[0], is_dst=False)\n",
    "        return np.vectorize(one_dt_utc)(arr)"
   ]
  },
  {
   "cell_type": "code",
   "execution_count": 92,
   "metadata": {},
   "outputs": [],
   "source": [
    "def time_arr(year, lon, lat, use_dst=True):\n",
    "    # determine timezone based on lon, lat\n",
    "    tz_str = timezonefinder.TimezoneFinder().certain_timezone_at(lat=lat, lng=lon)\n",
    "    tz = pytz.timezone(tz_str)\n",
    "    \n",
    "    # generate local start and end times\n",
    "    # localize with derived time zone\n",
    "    start_time = pd.to_datetime(datetime(year, 1, 1)).tz_localize(tz)\n",
    "    end_time = pd.to_datetime(datetime(year+1, 1, 1)).tz_localize(tz)\n",
    "    \n",
    "    if use_dst:\n",
    "        # generate times\n",
    "        times = pd.date_range(start_time, end_time, freq='min').tz_convert('UTC')\n",
    "    else:\n",
    "        # convert to UTC to capture offset\n",
    "        start_time = start_time.tz_convert('UTC')\n",
    "        end_time = end_time.tz_convert('UTC')\n",
    "        \n",
    "        # generate times\n",
    "        times = pd.date_range(start_time, end_time, freq='min')\n",
    "    \n",
    "    # convert to python datetime objects in numpy array\n",
    "    return times.to_pydatetime()"
   ]
  },
  {
   "cell_type": "code",
   "execution_count": 94,
   "metadata": {},
   "outputs": [
    {
     "name": "stdout",
     "output_type": "stream",
     "text": [
      "0:00:00.228205\n"
     ]
    }
   ],
   "source": [
    "bef = datetime.now()\n",
    "time_arr(2021, lon, lat, use_dst=False)\n",
    "print(datetime.now() - bef)"
   ]
  },
  {
   "cell_type": "code",
   "execution_count": 102,
   "metadata": {},
   "outputs": [
    {
     "data": {
      "text/plain": [
       "DatetimeIndex(['2021-01-01 05:00:00+00:00', '2021-01-01 05:01:00+00:00',\n",
       "               '2021-01-01 05:02:00+00:00', '2021-01-01 05:03:00+00:00',\n",
       "               '2021-01-01 05:04:00+00:00', '2021-01-01 05:05:00+00:00',\n",
       "               '2021-01-01 05:06:00+00:00', '2021-01-01 05:07:00+00:00',\n",
       "               '2021-01-01 05:08:00+00:00', '2021-01-01 05:09:00+00:00',\n",
       "               ...\n",
       "               '2022-01-01 04:51:00+00:00', '2022-01-01 04:52:00+00:00',\n",
       "               '2022-01-01 04:53:00+00:00', '2022-01-01 04:54:00+00:00',\n",
       "               '2022-01-01 04:55:00+00:00', '2022-01-01 04:56:00+00:00',\n",
       "               '2022-01-01 04:57:00+00:00', '2022-01-01 04:58:00+00:00',\n",
       "               '2022-01-01 04:59:00+00:00', '2022-01-01 05:00:00+00:00'],\n",
       "              dtype='datetime64[ns, UTC]', length=525601, freq=None)"
      ]
     },
     "execution_count": 102,
     "metadata": {},
     "output_type": "execute_result"
    }
   ],
   "source": [
    "start_time = pd.to_datetime(datetime(year, 1, 1))\n",
    "end_time = pd.to_datetime(datetime(year+1, 1, 1))\n",
    "times = pd.date_range(start_time, end_time, freq='min').tz_localize(tz, ambiguous=True, nonexistent='shift_forward').tz_convert('UTC')\n",
    "times"
   ]
  },
  {
   "cell_type": "code",
   "execution_count": 51,
   "metadata": {},
   "outputs": [
    {
     "data": {
      "text/plain": [
       "numpy.ndarray"
      ]
     },
     "execution_count": 51,
     "metadata": {},
     "output_type": "execute_result"
    }
   ],
   "source": [
    "tz_str = timezonefinder.TimezoneFinder().certain_timezone_at(lat=lat, lng=lon)\n",
    "tz = pytz.timezone(tz_str)\n",
    "# start_time = datetime(2021, 1, 1, tzinfo=tz)\n",
    "# start_time = datetime(2021, 1, 1)\n",
    "# pd.to_datetime(start_time).tz_localize(tz)\n",
    "\n",
    "start_time = pd.to_datetime(datetime(year, 1, 1)).tz_localize(tz)\n",
    "end_time = pd.to_datetime(datetime(year+1, 1, 1)).tz_localize(tz)\n",
    "\n",
    "pd.date_range(start_time, end_time, freq='min').tz_convert('UTC').to_pydatetime()"
   ]
  },
  {
   "cell_type": "code",
   "execution_count": 67,
   "metadata": {},
   "outputs": [
    {
     "data": {
      "text/plain": [
       "array([datetime.datetime(2021, 1, 1, 4, 56, tzinfo=<UTC>),\n",
       "       datetime.datetime(2021, 1, 1, 4, 57, tzinfo=<UTC>),\n",
       "       datetime.datetime(2021, 1, 1, 4, 58, tzinfo=<UTC>), ...,\n",
       "       datetime.datetime(2022, 1, 1, 4, 54, tzinfo=<UTC>),\n",
       "       datetime.datetime(2022, 1, 1, 4, 55, tzinfo=<UTC>),\n",
       "       datetime.datetime(2022, 1, 1, 4, 56, tzinfo=<UTC>)], dtype=object)"
      ]
     },
     "execution_count": 67,
     "metadata": {},
     "output_type": "execute_result"
    }
   ],
   "source": [
    "lon = -71.057083\n",
    "lat = 42.361145\n",
    "\n",
    "tz_str = timezonefinder.TimezoneFinder().certain_timezone_at(lat=lat, lng=lon)\n",
    "tz = pytz.timezone(tz_str)\n",
    "# start_time = datetime(year, 1, 1, tzinfo='tz')\n",
    "# offset = tz.utcoffset(datetime(year, 1, 1, tzinfo=tz), is_dst=False)\n",
    "# start_time = datetime(year, 1, 1, tzinfo=pytz.UTC) - offset\n",
    "# end_time = datetime(year+1, 1, 1, tzinfo=pytz.UTC) - offset\n",
    "# np.arange(start_time, end_time, dtype='datetime64[m]').astype(datetime)\n",
    "offset = tz.utcoffset(datetime(year, 1, 1, tzinfo=tz), is_dst=False)\n",
    "start_time = pd.to_datetime(datetime(year, 1, 1, tzinfo=pytz.UTC)) - offset\n",
    "end_time = pd.to_datetime(datetime(year+1, 1, 1, tzinfo=pytz.UTC)) - offset\n",
    "\n",
    "\n",
    "pd.date_range(start_time, end_time, freq='min').to_pydatetime()"
   ]
  },
  {
   "cell_type": "code",
   "execution_count": 84,
   "metadata": {
    "scrolled": true
   },
   "outputs": [
    {
     "ename": "AttributeError",
     "evalue": "'America/New_York' object has no attribute 'normnalize'",
     "output_type": "error",
     "traceback": [
      "\u001b[0;31m---------------------------------------------------------------------------\u001b[0m",
      "\u001b[0;31mAttributeError\u001b[0m                            Traceback (most recent call last)",
      "\u001b[0;32m<ipython-input-84-2963688fdfa2>\u001b[0m in \u001b[0;36m<module>\u001b[0;34m\u001b[0m\n\u001b[0;32m----> 1\u001b[0;31m \u001b[0mdan\u001b[0m \u001b[0;34m=\u001b[0m \u001b[0mpytz\u001b[0m\u001b[0;34m.\u001b[0m\u001b[0mtimezone\u001b[0m\u001b[0;34m(\u001b[0m\u001b[0mtz_str\u001b[0m\u001b[0;34m)\u001b[0m\u001b[0;34m.\u001b[0m\u001b[0mnormnalize\u001b[0m\u001b[0;34m(\u001b[0m\u001b[0mdatetime\u001b[0m\u001b[0;34m(\u001b[0m\u001b[0myear\u001b[0m\u001b[0;34m,\u001b[0m \u001b[0;36m1\u001b[0m\u001b[0;34m,\u001b[0m \u001b[0;36m1\u001b[0m\u001b[0;34m,\u001b[0m \u001b[0mtzinfo\u001b[0m\u001b[0;34m=\u001b[0m\u001b[0mtimezone\u001b[0m\u001b[0;34m(\u001b[0m\u001b[0;34m'UTC'\u001b[0m\u001b[0;34m)\u001b[0m\u001b[0;34m)\u001b[0m\u001b[0;34m)\u001b[0m\u001b[0;34m\u001b[0m\u001b[0;34m\u001b[0m\u001b[0m\n\u001b[0m\u001b[1;32m      2\u001b[0m \u001b[0;34m\u001b[0m\u001b[0m\n\u001b[1;32m      3\u001b[0m \u001b[0moffset\u001b[0m \u001b[0;34m=\u001b[0m \u001b[0mtz\u001b[0m\u001b[0;34m.\u001b[0m\u001b[0mutcoffset\u001b[0m\u001b[0;34m(\u001b[0m\u001b[0mdan\u001b[0m\u001b[0;34m,\u001b[0m \u001b[0mis_dst\u001b[0m\u001b[0;34m=\u001b[0m\u001b[0;32mFalse\u001b[0m\u001b[0;34m)\u001b[0m\u001b[0;34m\u001b[0m\u001b[0;34m\u001b[0m\u001b[0m\n\u001b[1;32m      4\u001b[0m \u001b[0mprint\u001b[0m\u001b[0;34m(\u001b[0m\u001b[0moffset\u001b[0m\u001b[0;34m)\u001b[0m\u001b[0;34m\u001b[0m\u001b[0;34m\u001b[0m\u001b[0m\n\u001b[1;32m      5\u001b[0m \u001b[0moffset\u001b[0m \u001b[0;34m=\u001b[0m \u001b[0mtz\u001b[0m\u001b[0;34m.\u001b[0m\u001b[0mutcoffset\u001b[0m\u001b[0;34m(\u001b[0m\u001b[0mdan\u001b[0m\u001b[0;34m,\u001b[0m \u001b[0mis_dst\u001b[0m\u001b[0;34m=\u001b[0m\u001b[0;32mTrue\u001b[0m\u001b[0;34m)\u001b[0m\u001b[0;34m\u001b[0m\u001b[0;34m\u001b[0m\u001b[0m\n",
      "\u001b[0;31mAttributeError\u001b[0m: 'America/New_York' object has no attribute 'normnalize'"
     ]
    }
   ],
   "source": [
    "dan = pytz.timezone(tz_str).normnalize(datetime(year, 1, 1, tzinfo=timezone('UTC')))\n",
    "\n",
    "offset = tz.utcoffset(dan, is_dst=False)\n",
    "print(offset)\n",
    "offset = tz.utcoffset(dan, is_dst=True)\n",
    "print(offset)"
   ]
  },
  {
   "cell_type": "code",
   "execution_count": 80,
   "metadata": {},
   "outputs": [
    {
     "data": {
      "text/plain": [
       "<DstTzInfo 'America/New_York' LMT-1 day, 19:04:00 STD>"
      ]
     },
     "execution_count": 80,
     "metadata": {},
     "output_type": "execute_result"
    }
   ],
   "source": [
    "tz_str = timezonefinder.TimezoneFinder().certain_timezone_at(lat=lat, lng=lon)\n",
    "pytz.timezone(tz_str)"
   ]
  },
  {
   "cell_type": "code",
   "execution_count": 91,
   "metadata": {},
   "outputs": [
    {
     "data": {
      "text/plain": [
       "DatetimeIndex(['2021-01-01 05:00:00+00:00', '2021-01-01 05:01:00+00:00',\n",
       "               '2021-01-01 05:02:00+00:00', '2021-01-01 05:03:00+00:00',\n",
       "               '2021-01-01 05:04:00+00:00', '2021-01-01 05:05:00+00:00',\n",
       "               '2021-01-01 05:06:00+00:00', '2021-01-01 05:07:00+00:00',\n",
       "               '2021-01-01 05:08:00+00:00', '2021-01-01 05:09:00+00:00',\n",
       "               ...\n",
       "               '2022-01-01 04:51:00+00:00', '2022-01-01 04:52:00+00:00',\n",
       "               '2022-01-01 04:53:00+00:00', '2022-01-01 04:54:00+00:00',\n",
       "               '2022-01-01 04:55:00+00:00', '2022-01-01 04:56:00+00:00',\n",
       "               '2022-01-01 04:57:00+00:00', '2022-01-01 04:58:00+00:00',\n",
       "               '2022-01-01 04:59:00+00:00', '2022-01-01 05:00:00+00:00'],\n",
       "              dtype='datetime64[ns, UTC]', length=525601, freq='T')"
      ]
     },
     "execution_count": 91,
     "metadata": {},
     "output_type": "execute_result"
    }
   ],
   "source": [
    "start_time = pd.to_datetime(datetime(year, 1, 1)).tz_localize(tz)\n",
    "start_time.utcoffset()\n",
    "\n",
    "start_time = pd.to_datetime(datetime(year, 1, 1)).tz_localize(tz).tz_convert('UTC')\n",
    "end_time = pd.to_datetime(datetime(year+1, 1, 1)).tz_localize(tz).tz_convert('UTC')\n",
    "\n",
    "pd.date_range(start_time, end_time, freq='min')"
   ]
  },
  {
   "cell_type": "code",
   "execution_count": 7,
   "metadata": {},
   "outputs": [
    {
     "name": "stdout",
     "output_type": "stream",
     "text": [
      "Building array of datetime objects...\n",
      "Took 0:00:00.038606\n",
      "Converting dates to UTC...\n",
      "Took 0:00:08.752671\n"
     ]
    }
   ],
   "source": [
    "year = 2021\n",
    "\n",
    "lon = 144.9631\n",
    "lat = -37.8136\n",
    "\n",
    "\n",
    "print('Building array of datetime objects...')\n",
    "bef = datetime.now()\n",
    "arr_dt = base_date_arr(year)  # naive timestamps as datetime.datetime\n",
    "af = datetime.now() - bef\n",
    "print(f'Took {af}')\n",
    "\n",
    "print('Converting dates to UTC...')\n",
    "bef = datetime.now()\n",
    "arr_utc = to_utc(arr_dt, lon, lat, use_dst=True)\n",
    "af = datetime.now() - bef\n",
    "print(f'Took {af}')"
   ]
  },
  {
   "cell_type": "code",
   "execution_count": 30,
   "metadata": {},
   "outputs": [
    {
     "data": {
      "text/plain": [
       "DatetimeIndex(['2021-01-01 11:00:00+11:00', '2021-01-01 11:01:00+11:00',\n",
       "               '2021-01-01 11:02:00+11:00', '2021-01-01 11:03:00+11:00',\n",
       "               '2021-01-01 11:04:00+11:00', '2021-01-01 11:05:00+11:00',\n",
       "               '2021-01-01 11:06:00+11:00', '2021-01-01 11:07:00+11:00',\n",
       "               '2021-01-01 11:08:00+11:00', '2021-01-01 11:09:00+11:00',\n",
       "               ...\n",
       "               '2022-01-01 10:50:00+11:00', '2022-01-01 10:51:00+11:00',\n",
       "               '2022-01-01 10:52:00+11:00', '2022-01-01 10:53:00+11:00',\n",
       "               '2022-01-01 10:54:00+11:00', '2022-01-01 10:55:00+11:00',\n",
       "               '2022-01-01 10:56:00+11:00', '2022-01-01 10:57:00+11:00',\n",
       "               '2022-01-01 10:58:00+11:00', '2022-01-01 10:59:00+11:00'],\n",
       "              dtype='datetime64[ns, Australia/Melbourne]', length=525600, freq=None)"
      ]
     },
     "execution_count": 30,
     "metadata": {},
     "output_type": "execute_result"
    }
   ],
   "source": [
    "import pandas as pd\n",
    "dt_pd = pd.to_datetime(arr_dt)\n",
    "utc_localized = dt_pd.tz_localize(\"UTC\")\n",
    "\n",
    "tz_str = timezonefinder.TimezoneFinder().certain_timezone_at(lat=lat, lng=lon)\n",
    "tz = pytz.timezone(tz_str)\n",
    "# offset = tz.utcoffset(dt_pd[0], is_dst=False)\n",
    "# (dt_pd - offset).tz_localize(\"UTC\")\n",
    "utc_localized.tz_convert(tz)"
   ]
  },
  {
   "cell_type": "code",
   "execution_count": null,
   "metadata": {},
   "outputs": [],
   "source": [
    "# bef = datetime.now()\n",
    "\n",
    "# tz_str = tzwhere.tzwhere().tzNameAt(lat, lon)\n",
    "# tz = pytz.timezone(tz_str)\n",
    "# # tz.localize(arr_dt).astimezone(pytz.utc)\n",
    "\n",
    "# af = datetime.now() - bef\n",
    "# print(f'Took {af}')"
   ]
  },
  {
   "cell_type": "code",
   "execution_count": 13,
   "metadata": {},
   "outputs": [],
   "source": [
    "# from datetime import datetime\n",
    "# lon = 144.9631\n",
    "# lat = -37.8136\n",
    "\n",
    "\n",
    "# bef = datetime.now()\n",
    "\n",
    "# import timezonefinder\n",
    "\n",
    "# tf = timezonefinder.TimezoneFinder()\n",
    "# timezone_str = tf.certain_timezone_at(lat=lat, lng=lon)\n",
    "\n",
    "# af = datetime.now() - bef\n",
    "# print(f'Took {af}')"
   ]
  },
  {
   "cell_type": "code",
   "execution_count": null,
   "metadata": {},
   "outputs": [],
   "source": [
    "# offset = tz.utcoffset(arr_dt[0], is_dst=False)\n",
    "# (arr_dt - offset).replace(tzinfo=timezone.utc)"
   ]
  },
  {
   "cell_type": "code",
   "execution_count": 14,
   "metadata": {},
   "outputs": [],
   "source": [
    "# test = np.array([arr_dt[0]])\n",
    "# test"
   ]
  },
  {
   "cell_type": "code",
   "execution_count": 15,
   "metadata": {},
   "outputs": [],
   "source": [
    "# lon = 144.9631\n",
    "# lat = -37.8136\n",
    "# tz_str = timezonefinder.TimezoneFinder().certain_timezone_at(lat=lat, lng=lon)\n",
    "# tz = pytz.timezone(tz_str)\n",
    "# tz.localize(test).astimezone(pytz.utc)\n",
    "\n",
    "    # tz_str = tzwhere.tzwhere().tzNameAt(lat, lon)\n",
    "    \n",
    "tz_str = timezonefinder.TimezoneFinder().certain_timezone_at(lat=lat, lng=lon)\n",
    "tz = pytz.timezone(tz_str)\n",
    "\n",
    "def one_dt_utc(dt):\n",
    "    dt_offset = (dt - offset)\n",
    "    return dt_offset.replace(tzinfo=timezone.utc)\n",
    "\n",
    "def one_dt_localized(dt):\n",
    "    return tz.localize(dt).astimezone(pytz.utc)\n",
    "\n",
    "if use_dst:\n",
    "    return np.vectorize(one_dt_localized)(arr)\n",
    "else:\n",
    "    # offset = tz.utcoffset(arr[0, 0], is_dst=False)\n",
    "    offset = tz.utcoffset(arr[0], is_dst=False)\n",
    "    return np.vectorize(one_dt_utc)(arr)"
   ]
  },
  {
   "cell_type": "code",
   "execution_count": null,
   "metadata": {},
   "outputs": [],
   "source": [
    "import pandas as pd\n",
    "\n",
    "def to_utc_pd(arr, lon, lat, use_dst: bool):\n",
    "    dt_pd = pd.to_datetime(arr)\n",
    "    \n",
    "    tz_str = timezonefinder.TimezoneFinder().certain_timezone_at(lat=lat, lng=lon)\n",
    "    tz = pytz.timezone(tz_str)\n",
    "    \n",
    "    if use_dst:\n",
    "        return dt_pd.tz_localize(tz).values\n",
    "    else:\n",
    "        offset = tz.utcoffset(dt_pd[0], is_dst=False)\n",
    "        return (dt_pd - offset).tz_localize(\"UTC\").values\n",
    "        "
   ]
  }
 ],
 "metadata": {
  "kernelspec": {
   "display_name": "Python 3",
   "language": "python",
   "name": "python3"
  },
  "language_info": {
   "codemirror_mode": {
    "name": "ipython",
    "version": 3
   },
   "file_extension": ".py",
   "mimetype": "text/x-python",
   "name": "python",
   "nbconvert_exporter": "python",
   "pygments_lexer": "ipython3",
   "version": "3.8.5"
  }
 },
 "nbformat": 4,
 "nbformat_minor": 4
}
