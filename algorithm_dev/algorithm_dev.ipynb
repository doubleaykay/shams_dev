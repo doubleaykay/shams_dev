{
 "cells": [
  {
   "cell_type": "code",
   "execution_count": 10,
   "metadata": {},
   "outputs": [],
   "source": [
    "import numpy as np\n",
    "import suncalc\n",
    "import drawSvg as draw\n",
    "\n",
    "from numba import jit\n",
    "\n",
    "import random"
   ]
  },
  {
   "cell_type": "code",
   "execution_count": null,
   "metadata": {},
   "outputs": [],
   "source": []
  },
  {
   "cell_type": "code",
   "execution_count": 15,
   "metadata": {
    "scrolled": true
   },
   "outputs": [],
   "source": [
    "# @jit()\n",
    "def gen_svg():\n",
    "    width = 1920\n",
    "    height = 1080\n",
    "\n",
    "    x_low = -1 * width / 2\n",
    "    x_high = -1 * x_low\n",
    "\n",
    "    y_low = -1 * height / 2\n",
    "    y_high = -1 * y_low\n",
    "\n",
    "    x_tick = width / 365 # days in a year\n",
    "    y_tick = height / 1440 # min in a day\n",
    "\n",
    "    # d = draw.Drawing(width, height, origin='center', displayInline=False)\n",
    "    d = draw.Drawing(width, height, displayInline=False)\n",
    "\n",
    "    # Draw a rectangle\n",
    "\n",
    "    # random color for now\n",
    "    y = 0\n",
    "    x = 0\n",
    "\n",
    "    while x <= width:\n",
    "        y = 0\n",
    "        while y <= height:\n",
    "            color = \"%06x\" % random.randint(0, 0xFFFFFF)\n",
    "            r = draw.Rectangle(x,y,x_tick,y_tick, fill=f'#{color}')\n",
    "            d.append(r)\n",
    "            y += y_tick\n",
    "        x += x_tick\n",
    "\n",
    "    d.setPixelScale(2)  # Set number of pixels per geometry unit\n",
    "    #d.setRenderSize(400,200)  # Alternative to setPixelScale\n",
    "    # d.saveSvg('for_dan.svg')\n",
    "\n",
    "    return d  # Display as SVG"
   ]
  },
  {
   "cell_type": "code",
   "execution_count": 16,
   "metadata": {},
   "outputs": [],
   "source": [
    "d = gen_svg()\n",
    "d.saveSvg('new.svg')"
   ]
  },
  {
   "cell_type": "code",
   "execution_count": 4,
   "metadata": {},
   "outputs": [],
   "source": [
    "# print(x_low,x_high,y_low,y_high,x_tick,y_tick)\n",
    "# color"
   ]
  },
  {
   "cell_type": "code",
   "execution_count": 5,
   "metadata": {},
   "outputs": [],
   "source": [
    "# get times in year\n",
    "# year = 2021\n",
    "# minutes = np.arange(str(year), str(year+1), dtype='datetime64[m]')"
   ]
  },
  {
   "cell_type": "code",
   "execution_count": 6,
   "metadata": {},
   "outputs": [],
   "source": [
    "# minutes[0]"
   ]
  },
  {
   "cell_type": "code",
   "execution_count": 7,
   "metadata": {},
   "outputs": [],
   "source": [
    "# lon = 71.0589\n",
    "# lat = 42.3601\n",
    "# positions = suncalc.get_position(minutes, lon, lat)\n",
    "# times = suncalc.get_times(minutes[0], lon, lat)"
   ]
  },
  {
   "cell_type": "code",
   "execution_count": 8,
   "metadata": {},
   "outputs": [],
   "source": [
    "# times"
   ]
  },
  {
   "cell_type": "code",
   "execution_count": null,
   "metadata": {},
   "outputs": [],
   "source": []
  },
  {
   "cell_type": "code",
   "execution_count": null,
   "metadata": {},
   "outputs": [],
   "source": [
    "# numpy array, 1440 x 365 where each column is a day, each row is a minute\n",
    "# def function f that converts a time to sun position to color (either of two ways)\n",
    "# vectorize the function, maybe\n",
    "# np.array(list(map(f, arr)))\n",
    "# def function g that takes value [x] from arr and does np.broadcast_to([x], (y_tick, x_tick))\n",
    "# some combination of np.hstack(np.vstack(c)) to simplify the array into the correct size\n",
    "# now i have a bunch of hex codes, so do another map() and h/vstack to convert those into r,g,b,r,g,b etc etc\n",
    "\n",
    "# check size and all\n",
    "# pass array into png function for writing into a png"
   ]
  },
  {
   "cell_type": "code",
   "execution_count": 58,
   "metadata": {},
   "outputs": [],
   "source": [
    "a = np.array([[1, 2, 3]])\n",
    "b = np.array([ a, a, a ])"
   ]
  },
  {
   "cell_type": "code",
   "execution_count": 61,
   "metadata": {},
   "outputs": [
    {
     "data": {
      "text/plain": [
       "array([[1, 2, 3],\n",
       "       [1, 2, 3],\n",
       "       [1, 2, 3]])"
      ]
     },
     "execution_count": 61,
     "metadata": {},
     "output_type": "execute_result"
    }
   ],
   "source": [
    "np.vstack(b)"
   ]
  },
  {
   "cell_type": "code",
   "execution_count": 69,
   "metadata": {},
   "outputs": [],
   "source": [
    "c = np.array([[1, 2, 3]]).T\n",
    "d = np.array([ c, c, c ])"
   ]
  },
  {
   "cell_type": "code",
   "execution_count": 71,
   "metadata": {},
   "outputs": [
    {
     "data": {
      "text/plain": [
       "array([[1, 1, 1],\n",
       "       [2, 2, 2],\n",
       "       [3, 3, 3]])"
      ]
     },
     "execution_count": 71,
     "metadata": {},
     "output_type": "execute_result"
    }
   ],
   "source": [
    "np.hstack(d)"
   ]
  },
  {
   "cell_type": "code",
   "execution_count": null,
   "metadata": {},
   "outputs": [],
   "source": []
  },
  {
   "cell_type": "code",
   "execution_count": 106,
   "metadata": {},
   "outputs": [],
   "source": [
    "import pandas as pd"
   ]
  },
  {
   "cell_type": "code",
   "execution_count": 107,
   "metadata": {},
   "outputs": [],
   "source": [
    "# get days in a year\n",
    "year = 2021\n",
    "days = np.arange(str(year), str(year+1), dtype='datetime64[D]')\n",
    "\n",
    "lst = []\n",
    "for day in days:\n",
    "    lst.append(np.arange(day, day+1, dtype='datetime64[m]'))\n",
    "\n",
    "lst_arr = np.array(lst)\n",
    "lst_arr = lst_arr.T"
   ]
  },
  {
   "cell_type": "code",
   "execution_count": 115,
   "metadata": {},
   "outputs": [],
   "source": [
    "# TTD function to convert time into color\n",
    "def time_to_color(time):\n",
    "    color = \"%06x\" % random.randint(0, 0xFFFFFF)\n",
    "    return color\n",
    "\n",
    "vf = np.vectorize(time_to_color)\n",
    "\n",
    "colored = vf(lst_arr)"
   ]
  },
  {
   "cell_type": "code",
   "execution_count": 121,
   "metadata": {},
   "outputs": [],
   "source": [
    "# tile each element\n",
    "# from https://stackoverflow.com/a/52346065\n",
    "\n",
    "def broadcast_tile(a, h, w):\n",
    "    x, y = a.shape\n",
    "    m, n = x * h, y * w\n",
    "    return np.broadcast_to(\n",
    "        a.reshape(x, 1, y, 1), (x, h, y, w)\n",
    "    ).reshape(m, n)\n",
    "\n",
    "expanded = broadcast_tile(colored, 5, 5)"
   ]
  },
  {
   "cell_type": "code",
   "execution_count": 147,
   "metadata": {},
   "outputs": [],
   "source": [
    "# hex to rgb\n",
    "def hex_to_rgb(hex):\n",
    "    h = hex.lstrip('#')\n",
    "    return str(tuple(int(h[i:i+2], 16) for i in (0, 2, 4)))\n",
    "\n",
    "vhex = np.vectorize(hex_to_rgb)\n",
    "\n",
    "rgbs = vhex(expanded)"
   ]
  },
  {
   "cell_type": "code",
   "execution_count": null,
   "metadata": {},
   "outputs": [],
   "source": []
  },
  {
   "cell_type": "code",
   "execution_count": 153,
   "metadata": {},
   "outputs": [],
   "source": [
    "def test_fn():\n",
    "    # get days in a year\n",
    "    year = 2021\n",
    "    days = np.arange(str(year), str(year+1), dtype='datetime64[D]')\n",
    "\n",
    "    lst = []\n",
    "    for day in days:\n",
    "        lst.append(np.arange(day, day+1, dtype='datetime64[m]'))\n",
    "\n",
    "    lst_arr = np.array(lst)\n",
    "    lst_arr = lst_arr.T\n",
    "\n",
    "    # TTD function to convert time into color\n",
    "    def time_to_color(time):\n",
    "        color = \"%06x\" % random.randint(0, 0xFFFFFF)\n",
    "        return color\n",
    "\n",
    "    vf = np.vectorize(time_to_color)\n",
    "\n",
    "    colored = vf(lst_arr)\n",
    "\n",
    "    # tile each element\n",
    "    # from https://stackoverflow.com/a/52346065\n",
    "    \n",
    "    def broadcast_tile(a, h, w):\n",
    "        x, y = a.shape\n",
    "        m, n = x * h, y * w\n",
    "        return np.broadcast_to(\n",
    "            a.reshape(x, 1, y, 1), (x, h, y, w)\n",
    "        ).reshape(m, n)\n",
    "\n",
    "    expanded = broadcast_tile(colored, 5, 5)\n",
    "\n",
    "    # hex to rgb\n",
    "    def hex_to_rgb(hex):\n",
    "        h = hex.lstrip('#')\n",
    "        return str(tuple(int(h[i:i+2], 16) for i in (0, 2, 4)))\n",
    "\n",
    "    vhex = np.vectorize(hex_to_rgb)\n",
    "\n",
    "    rgbs = vhex(expanded)\n",
    "    \n",
    "    return rgbs"
   ]
  },
  {
   "cell_type": "code",
   "execution_count": 154,
   "metadata": {},
   "outputs": [],
   "source": [
    "out = test_fn()\n",
    "# display(pd.DataFrame(out))"
   ]
  },
  {
   "cell_type": "code",
   "execution_count": null,
   "metadata": {},
   "outputs": [],
   "source": []
  }
 ],
 "metadata": {
  "kernelspec": {
   "display_name": "Python 3",
   "language": "python",
   "name": "python3"
  },
  "language_info": {
   "codemirror_mode": {
    "name": "ipython",
    "version": 3
   },
   "file_extension": ".py",
   "mimetype": "text/x-python",
   "name": "python",
   "nbconvert_exporter": "python",
   "pygments_lexer": "ipython3",
   "version": "3.8.5"
  }
 },
 "nbformat": 4,
 "nbformat_minor": 4
}
