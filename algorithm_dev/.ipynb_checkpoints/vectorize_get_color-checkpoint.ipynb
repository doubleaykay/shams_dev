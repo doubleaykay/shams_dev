{
 "cells": [
  {
   "cell_type": "code",
   "execution_count": 2,
   "metadata": {},
   "outputs": [],
   "source": [
    "import numpy as np\n",
    "from math import pi, tau\n",
    "\n",
    "from datetime import datetime, timezone\n",
    "from tzwhere import tzwhere\n",
    "import pytz\n",
    "import suncalc\n",
    "\n",
    "from colorsys import hls_to_rgb\n",
    "from PIL import Image"
   ]
  },
  {
   "cell_type": "code",
   "execution_count": 27,
   "metadata": {},
   "outputs": [],
   "source": [
    "# azimuth, altitude to color\n",
    "def get_color(azimuth, altitude, sunrise_jump=0.2, hue_shift=0.0, as_hex=True):\n",
    "    # ranges from 0 (no jump) to 1 (day is all white, night all black)\n",
    "    assert 0 <= sunrise_jump <= 1, \"sunrise_jump must be between 0 and 1 inclusive\"\n",
    "\n",
    "    # can be any float, but values outside the range [0, 1) are redundant\n",
    "    # shifts all hues in the r -> g -> b -> r direction\n",
    "    assert isinstance(hue_shift, float), \"hue_shift must be a float\"\n",
    "    \n",
    "    print(f'azi: {azimuth}')\n",
    "    print(f'alt: {altitude}')\n",
    "\n",
    "    # yes, this could be simplified, and no, don't try to do it please.\n",
    "    altitude_scaled = (altitude / pi) * 2  # range [-1, 1]\n",
    "    print(altitude_scaled)\n",
    "    \n",
    "    altitude_scaled *= 1 - sunrise_jump\n",
    "    print(altitude_scaled)\n",
    "    \n",
    "    altitude_scaled += sunrise_jump * (1 if altitude >= 0 else -1)  # range [-1, 1]\n",
    "    print(altitude_scaled)\n",
    "    \n",
    "    lightness = altitude_scaled / 2 + 0.5  # range [0, 1]\n",
    "    print(lightness)\n",
    "\n",
    "    hue = ((azimuth / tau) + 0.5 + hue_shift) % 1  # range [0, 1]\n",
    "    print(hue)\n",
    "\n",
    "    r, g, b = hls_to_rgb(hue, lightness, 1)\n",
    "    r = round(255 * r)\n",
    "    g = round(255 * g)\n",
    "    b = round(255 * b)\n",
    "    return \"{0:02x}{1:02x}{2:02x}\".format(r, g, b).upper() if as_hex else r, g, b"
   ]
  },
  {
   "cell_type": "code",
   "execution_count": 43,
   "metadata": {},
   "outputs": [],
   "source": [
    "# azimuth, altitude to color\n",
    "def get_color_vec(azimuth, altitude, sunrise_jump=0.2, hue_shift=0.0):\n",
    "    # ranges from 0 (no jump) to 1 (day is all white, night all black)\n",
    "    assert 0 <= sunrise_jump <= 1, \"sunrise_jump must be between 0 and 1 inclusive\"\n",
    "\n",
    "    # can be any float, but values outside the range [0, 1) are redundant\n",
    "    # shifts all hues in the r -> g -> b -> r direction\n",
    "    assert isinstance(hue_shift, float), \"hue_shift must be a float\"\n",
    "    \n",
    "    print(f'azi: {azimuth}')\n",
    "    print(f'alt: {altitude}')\n",
    "\n",
    "    # yes, this could be simplified, and no, don't try to do it please.\n",
    "    altitude_scaled = (altitude / pi) * 2  # range [-1, 1]\n",
    "    print(altitude_scaled)\n",
    "    \n",
    "    altitude_scaled *= 1 - sunrise_jump\n",
    "    # altitude_scaled = altitude_scaled * (1 - sunrise_jump)\n",
    "    print(altitude_scaled)\n",
    "    \n",
    "    # altitude_scaled += sunrise_jump * (1 if altitude >= 0 else -1)  # range [-1, 1]\n",
    "    idx_alt_pos = altitude_scaled >= 0\n",
    "    idx_alt_neg = altitude_scaled < 0\n",
    "    altitude_scaled[idx_alt_pos] += sunrise_jump * 1\n",
    "    altitude_scaled[idx_alt_neg] += sunrise_jump * -1\n",
    "    print(altitude_scaled)\n",
    "    \n",
    "    lightness = altitude_scaled / 2 + 0.5  # range [0, 1]\n",
    "    print(lightness)\n",
    "\n",
    "    hue = ((azimuth / tau) + 0.5 + hue_shift) % 1  # range [0, 1]\n",
    "    print(hue)\n",
    "    \n",
    "    saturation = np.ones(hue.shape)\n",
    "    \n",
    "    r, g, b = np.vectorize(hls_to_rgb)(hue, lightness, saturation)\n",
    "    \n",
    "    r = np.round(255 * r)\n",
    "    g = np.round(255 * g)\n",
    "    b = np.round(255 * b)\n",
    "    \n",
    "    return r, g, b"
   ]
  },
  {
   "cell_type": "code",
   "execution_count": 29,
   "metadata": {},
   "outputs": [],
   "source": [
    "azi = 0.37464615\n",
    "alt = -0.4540797"
   ]
  },
  {
   "cell_type": "code",
   "execution_count": 45,
   "metadata": {},
   "outputs": [
    {
     "name": "stdout",
     "output_type": "stream",
     "text": [
      "azi: 0.37464615\n",
      "alt: -0.4540797\n",
      "-0.2890761152507396\n",
      "-0.2312608922005917\n",
      "-0.4312608922005917\n",
      "0.28436955389970414\n",
      "0.5596267866828477\n"
     ]
    },
    {
     "data": {
      "text/plain": [
       "(0, 93, 145)"
      ]
     },
     "execution_count": 45,
     "metadata": {},
     "output_type": "execute_result"
    }
   ],
   "source": [
    "get_color(azi, alt, sunrise_jump=0.2, hue_shift=0.0, as_hex=False)"
   ]
  },
  {
   "cell_type": "code",
   "execution_count": 44,
   "metadata": {},
   "outputs": [
    {
     "name": "stdout",
     "output_type": "stream",
     "text": [
      "azi: [0.37464615]\n",
      "alt: [-0.4540797]\n",
      "[-0.28907612]\n",
      "[-0.23126089]\n",
      "[-0.43126089]\n",
      "[0.28436955]\n",
      "[0.55962679]\n"
     ]
    },
    {
     "data": {
      "text/plain": [
       "(array([0.]), array([93.]), array([145.]))"
      ]
     },
     "execution_count": 44,
     "metadata": {},
     "output_type": "execute_result"
    }
   ],
   "source": [
    "azi2 = np.array([azi])\n",
    "alt2 = np.array([alt])\n",
    "get_color_vec(azi2, alt2, sunrise_jump=0.2, hue_shift=0.0)"
   ]
  },
  {
   "cell_type": "code",
   "execution_count": null,
   "metadata": {},
   "outputs": [],
   "source": []
  }
 ],
 "metadata": {
  "kernelspec": {
   "display_name": "Python 3",
   "language": "python",
   "name": "python3"
  },
  "language_info": {
   "codemirror_mode": {
    "name": "ipython",
    "version": 3
   },
   "file_extension": ".py",
   "mimetype": "text/x-python",
   "name": "python",
   "nbconvert_exporter": "python",
   "pygments_lexer": "ipython3",
   "version": "3.8.5"
  }
 },
 "nbformat": 4,
 "nbformat_minor": 4
}
