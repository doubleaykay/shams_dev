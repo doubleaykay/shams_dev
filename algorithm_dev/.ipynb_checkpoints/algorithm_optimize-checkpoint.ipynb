{
 "cells": [
  {
   "cell_type": "code",
   "execution_count": 1,
   "metadata": {},
   "outputs": [],
   "source": [
    "import numpy as np\n",
    "from math import pi, tau\n",
    "\n",
    "from datetime import datetime, timezone\n",
    "from tzwhere import tzwhere\n",
    "import pytz\n",
    "import suncalc\n",
    "\n",
    "from colorsys import hls_to_rgb\n",
    "from PIL import Image\n",
    "# import drawSvg as draw"
   ]
  },
  {
   "cell_type": "code",
   "execution_count": 2,
   "metadata": {},
   "outputs": [],
   "source": [
    "# azimuth, altitude to color\n",
    "def get_color(azimuth, altitude, sunrise_jump=0.2, hue_shift=0.0, as_hex=True):\n",
    "    # ranges from 0 (no jump) to 1 (day is all white, night all black)\n",
    "    assert 0 <= sunrise_jump <= 1, \"sunrise_jump must be between 0 and 1 inclusive\"\n",
    "\n",
    "    # can be any float, but values outside the range [0, 1) are redundant\n",
    "    # shifts all hues in the r -> g -> b -> r direction\n",
    "    assert isinstance(hue_shift, float), \"hue_shift must be a float\"\n",
    "\n",
    "    # yes, this could be simplified, and no, don't try to do it please.\n",
    "    altitude_scaled = (altitude / pi) * 2  # range [-1, 1]\n",
    "    altitude_scaled *= 1 - sunrise_jump\n",
    "    altitude_scaled += sunrise_jump * (1 if altitude >= 0 else -1)  # range [-1, 1]\n",
    "    lightness = altitude_scaled / 2 + 0.5  # range [0, 1]\n",
    "\n",
    "    hue = ((azimuth / tau) + 0.5 + hue_shift) % 1  # range [0, 1]\n",
    "\n",
    "    r, g, b = hls_to_rgb(hue, lightness, 1)\n",
    "    r = round(255 * r)\n",
    "    g = round(255 * g)\n",
    "    b = round(255 * b)\n",
    "    return \"{0:02x}{1:02x}{2:02x}\".format(r, g, b).upper() if as_hex else r, g, b"
   ]
  },
  {
   "cell_type": "code",
   "execution_count": 3,
   "metadata": {},
   "outputs": [],
   "source": [
    "# array of UTC timestamps as naive datetime objects\n",
    "def base_date_arr(year: int):\n",
    "    start_time = np.datetime64(str(year))\n",
    "    end_time = np.datetime64(str(year + 1))\n",
    "\n",
    "    arr_dt_1d = np.arange(start_time, end_time, dtype='datetime64[m]').astype(datetime)  # 1D array\n",
    "    arr_utc_2d = arr_dt_1d.reshape(-1, 1440).transpose()  # 2D array with days as columns, time flowing top to bottom\n",
    "\n",
    "    # flip array vertically since SVG is filled from bottom left corner\n",
    "    return arr_utc_2d"
   ]
  },
  {
   "cell_type": "code",
   "execution_count": 4,
   "metadata": {},
   "outputs": [],
   "source": [
    "# array of naive timestamps to array of time zone aware timestamps\n",
    "def to_utc(arr, lon, lat, use_dst: bool):\n",
    "    tz_str = tzwhere.tzwhere().tzNameAt(lon, lat)\n",
    "    tz = pytz.timezone(tz_str)\n",
    "\n",
    "    def one_dt_utc(dt):\n",
    "        return (dt - offset).replace(tzinfo=timezone.utc)\n",
    "\n",
    "    def one_dt_localized(dt):\n",
    "        return tz.localize(dt).astimezone(pytz.utc)\n",
    "\n",
    "    if use_dst:\n",
    "        return np.vectorize(one_dt_localized)(arr)\n",
    "    else:\n",
    "        offset = tz.utcoffset(arr[0, 0], is_dst=False)\n",
    "        return np.vectorize(one_dt_utc)(arr)"
   ]
  },
  {
   "cell_type": "code",
   "execution_count": 5,
   "metadata": {},
   "outputs": [],
   "source": [
    "# array of timestamps to sun positions, then to [r, g, b]]\n",
    "def pos_png(arr_dt, lon, lat, sunrise_jump=0.0, hue_shift=0.0):\n",
    "    # get shape of input array\n",
    "    shape_old = arr_dt.shape\n",
    "    # create empty array with old shape and depth 3\n",
    "    rgb_arr = np.empty((shape_old[0], shape_old[1], 3), dtype=np.uint8)\n",
    "    \n",
    "    r_lst = []\n",
    "    g_lst = []\n",
    "    b_lst = []\n",
    "\n",
    "    for row_idx in range(shape_old[0]):\n",
    "        for col_idx in range(shape_old[1]):\n",
    "            azi_alt = suncalc.get_position(arr_dt[row_idx, col_idx], lon, lat)\n",
    "            r, g, b = get_color(azi_alt['azimuth'], azi_alt['altitude'],\n",
    "                                sunrise_jump=sunrise_jump, hue_shift=hue_shift, as_hex=False)\n",
    "            rgb_arr[row_idx, col_idx, 0] = r\n",
    "            rgb_arr[row_idx, col_idx, 1] = g\n",
    "            rgb_arr[row_idx, col_idx, 2] = b\n",
    "            r_lst.append(r)\n",
    "            g_lst.append(g)\n",
    "            b_lst.append(b)\n",
    "\n",
    "    return rgb_arr, r_lst, g_lst, b_lst"
   ]
  },
  {
   "cell_type": "code",
   "execution_count": 6,
   "metadata": {},
   "outputs": [],
   "source": [
    "# generate PNG using pixel data\n",
    "def gen_png(rgb_arr, width, height, file_name):\n",
    "    if not '.png' in file_name: file_name = file_name + '.png'\n",
    "    Image.fromarray(rgb_arr, mode=\"RGB\") \\\n",
    "        .resize((rgb_arr.shape[1], height), Image.BOX) \\\n",
    "        .resize((width, height), Image.NEAREST) \\\n",
    "        .save(file_name)"
   ]
  },
  {
   "cell_type": "code",
   "execution_count": 7,
   "metadata": {},
   "outputs": [
    {
     "name": "stdout",
     "output_type": "stream",
     "text": [
      "Building array of datetime objects...\n",
      "Took 0:00:00.045132\n",
      "Converting dates to UTC...\n"
     ]
    },
    {
     "name": "stderr",
     "output_type": "stream",
     "text": [
      "/home/anoush/.local/lib/python3.8/site-packages/numpy/core/_asarray.py:83: VisibleDeprecationWarning: Creating an ndarray from ragged nested sequences (which is a list-or-tuple of lists-or-tuples-or ndarrays with different lengths or shapes) is deprecated. If you meant to do this, you must specify 'dtype=object' when creating the ndarray\n",
      "  return array(a, dtype, copy=False, order=order)\n"
     ]
    },
    {
     "name": "stdout",
     "output_type": "stream",
     "text": [
      "Took 0:00:13.469239\n",
      "Calculating sun location and corresponding colors...\n",
      "Took 0:00:24.708404\n",
      "Generating image...\n",
      "Took 0:00:00.269312\n"
     ]
    }
   ],
   "source": [
    "year = 2021\n",
    "\n",
    "img_title = 'Melbourne'\n",
    "lon = 144.9631\n",
    "lat = -37.8136\n",
    "\n",
    "width = 1920\n",
    "height = 1080\n",
    "\n",
    "print('Building array of datetime objects...')\n",
    "bef = datetime.now()\n",
    "arr_dt = base_date_arr(year)  # naive timestamps as datetime.datetime\n",
    "af = bef = datetime.now() - bef\n",
    "print(f'Took {af}')\n",
    "print('Converting dates to UTC...')\n",
    "bef = datetime.now()\n",
    "arr_utc = to_utc(arr_dt, lat, lon, use_dst=True)\n",
    "af = bef = datetime.now() - bef\n",
    "print(f'Took {af}')\n",
    "print('Calculating sun location and corresponding colors...')\n",
    "bef = datetime.now()\n",
    "pixels, r, g, b = pos_png(arr_utc, lon, lat, sunrise_jump=0.3, hue_shift=0.0)\n",
    "af = bef = datetime.now() - bef\n",
    "print(f'Took {af}')\n",
    "\n",
    "print('Generating image...')\n",
    "bef = datetime.now()\n",
    "gen_png(pixels, width, height, img_title)\n",
    "af = bef = datetime.now() - bef\n",
    "print(f'Took {af}')"
   ]
  },
  {
   "cell_type": "code",
   "execution_count": 8,
   "metadata": {},
   "outputs": [],
   "source": [
    "# azimuth, altitude to color\n",
    "# def get_color_vec(azimuth, altitude, sunrise_jump=0.2, hue_shift=0.0):\n",
    "#     # ranges from 0 (no jump) to 1 (day is all white, night all black)\n",
    "#     assert 0 <= sunrise_jump <= 1, \"sunrise_jump must be between 0 and 1 inclusive\"\n",
    "\n",
    "#     # can be any float, but values outside the range [0, 1) are redundant\n",
    "#     # shifts all hues in the r -> g -> b -> r direction\n",
    "#     assert isinstance(hue_shift, float), \"hue_shift must be a float\"\n",
    "\n",
    "#     # yes, this could be simplified, and no, don't try to do it please.\n",
    "#     altitude_scaled = (altitude / pi) * 2  # range [-1, 1]\n",
    "#     altitude_scaled *= 1 - sunrise_jump\n",
    "#     # altitude_scaled += sunrise_jump * (1 if altitude >= 0 else -1)  # range [-1, 1]\n",
    "#     idx_alt_pos = altitude_scaled >= 0\n",
    "#     idx_alt_neg = altitude_scaled < 0\n",
    "#     altitude_scaled[idx_alt_pos] += sunrise_jump * 1\n",
    "#     altitude_scaled[idx_alt_pos] += sunrise_jump * -1\n",
    "#     lightness = altitude_scaled / 2 + 0.5  # range [0, 1]\n",
    "\n",
    "#     hue = ((azimuth / tau) + 0.5 + hue_shift) % 1  # range [0, 1]\n",
    "    \n",
    "#     return hue, lightness\n",
    "\n",
    "#     r, g, b = hls_to_rgb(hue, lightness, 1)\n",
    "#     r = round(255 * r)\n",
    "#     g = round(255 * g)\n",
    "#     b = round(255 * b)\n",
    "#     return \"{0:02x}{1:02x}{2:02x}\".format(r, g, b).upper() if as_hex else r, g, b"
   ]
  },
  {
   "cell_type": "code",
   "execution_count": 9,
   "metadata": {},
   "outputs": [],
   "source": [
    "# array of UTC timestamps as naive datetime objects\n",
    "# def base_date_arr_2(year: int):\n",
    "#     start_time = np.datetime64(str(year))\n",
    "#     end_time = np.datetime64(str(year + 1))\n",
    "\n",
    "#     arr_dt_1d = np.arange(start_time, end_time, dtype='datetime64[m]').astype(datetime)  # 1D array\n",
    "#     # arr_utc_2d = arr_dt_1d.reshape(-1, 1440).transpose()  # 2D array with days as columns, time flowing top to bottom\n",
    "\n",
    "#     return arr_dt_1d"
   ]
  },
  {
   "cell_type": "code",
   "execution_count": 10,
   "metadata": {},
   "outputs": [],
   "source": [
    "# arr_dt = base_date_arr_2(year)\n",
    "# arr_utc = to_utc(arr_dt, lat, lon, use_dst=True)"
   ]
  },
  {
   "cell_type": "code",
   "execution_count": 11,
   "metadata": {},
   "outputs": [],
   "source": [
    "# sc = suncalc.get_position(arr_utc, lon, lat) # fast"
   ]
  },
  {
   "cell_type": "code",
   "execution_count": 12,
   "metadata": {},
   "outputs": [],
   "source": [
    "# h, l = get_color_vec(sc['azimuth'], sc['altitude'], sunrise_jump=0.2, hue_shift=0.0) # fast"
   ]
  },
  {
   "cell_type": "code",
   "execution_count": 13,
   "metadata": {},
   "outputs": [],
   "source": [
    "# r_arr = np.array(['R','R','R','R','R'])\n",
    "# g_arr = np.array(['G','G','G','G','G'])\n",
    "# b_arr = np.array(['B','B','B','B','B'])\n",
    "\n",
    "# arr_tuple = (r_arr, g_arr, b_arr)\n",
    "# np.vstack(arr_tuple).reshape((-1,), order='F')\n",
    "\n",
    "# def stack_hsv(h, s, v):\n",
    "#     return np.vstack((h, s, v)).reshape((-1,), order='F') # then reshape into correct size"
   ]
  },
  {
   "cell_type": "code",
   "execution_count": 14,
   "metadata": {},
   "outputs": [],
   "source": [
    "# start with h, l, s\n",
    "# convert from hsl to hsv\n",
    "# saturation = np.ones(h.shape)\n",
    "\n",
    "# v = l + saturation * np.minimum(l, 1-l)\n",
    "\n",
    "# s = np.zeros(v.shape)\n",
    "\n",
    "# idx_nonzero = v != 0\n",
    "\n",
    "# s[idx_nonzero] = 2 * (1 - (l / v[idx_nonzero]))\n",
    "\n",
    "# h = h"
   ]
  },
  {
   "cell_type": "code",
   "execution_count": 15,
   "metadata": {},
   "outputs": [],
   "source": [
    "# out = stack_hsv(h, s, v)"
   ]
  },
  {
   "cell_type": "code",
   "execution_count": 16,
   "metadata": {},
   "outputs": [],
   "source": [
    "# colors_arr = out.reshape((1440,-1))"
   ]
  },
  {
   "cell_type": "code",
   "execution_count": 17,
   "metadata": {},
   "outputs": [],
   "source": [
    "# def gen_png_2(rgb_arr, width, height, file_name):\n",
    "#     if not '.png' in file_name: file_name = file_name + '.png'\n",
    "#     Image.fromarray(rgb_arr, mode=\"HSV\") \\\n",
    "#         .convert('RGB') \\\n",
    "#         .resize((rgb_arr.shape[1], height), Image.BOX) \\\n",
    "#         .resize((width, height), Image.NEAREST) \\\n",
    "#         .save(file_name)"
   ]
  },
  {
   "cell_type": "code",
   "execution_count": 18,
   "metadata": {},
   "outputs": [],
   "source": [
    "# gen_png_2(colors_arr, width, height, 'test.png')"
   ]
  },
  {
   "cell_type": "code",
   "execution_count": 19,
   "metadata": {},
   "outputs": [],
   "source": [
    "# r, g, b = hls_to_rgb(hue, lightness, saturation)"
   ]
  },
  {
   "cell_type": "code",
   "execution_count": 20,
   "metadata": {},
   "outputs": [],
   "source": [
    "# t = np.vectorize(hls_to_rgb)"
   ]
  },
  {
   "cell_type": "code",
   "execution_count": 21,
   "metadata": {},
   "outputs": [],
   "source": [
    "# h, l = get_color_vec(sc['azimuth'], sc['altitude'], sunrise_jump=0.2, hue_shift=0.0) # fast\n",
    "# s = np.ones(h.shape)"
   ]
  },
  {
   "cell_type": "code",
   "execution_count": 22,
   "metadata": {},
   "outputs": [],
   "source": [
    "# r, g, b = t(h, l, s)"
   ]
  },
  {
   "cell_type": "code",
   "execution_count": 23,
   "metadata": {},
   "outputs": [],
   "source": [
    "# def stack_rgb(r, g, b):\n",
    "#     return np.vstack((r, g, b)).reshape((-1,), order='F').reshape((1440,-1))"
   ]
  },
  {
   "cell_type": "code",
   "execution_count": 24,
   "metadata": {},
   "outputs": [],
   "source": [
    "# out = stack_rgb(r, g, b)"
   ]
  },
  {
   "cell_type": "code",
   "execution_count": 25,
   "metadata": {},
   "outputs": [],
   "source": [
    "# gen_png(out, width, height, 'new.png')"
   ]
  },
  {
   "cell_type": "code",
   "execution_count": 26,
   "metadata": {},
   "outputs": [],
   "source": [
    "# pixels"
   ]
  },
  {
   "cell_type": "code",
   "execution_count": 27,
   "metadata": {},
   "outputs": [],
   "source": [
    "# rr = np.array(r)\n",
    "# gg = np.array(g)\n",
    "# bb = np.array(b)"
   ]
  },
  {
   "cell_type": "code",
   "execution_count": 28,
   "metadata": {},
   "outputs": [],
   "source": [
    "# gg"
   ]
  },
  {
   "cell_type": "code",
   "execution_count": null,
   "metadata": {},
   "outputs": [],
   "source": []
  },
  {
   "cell_type": "code",
   "execution_count": null,
   "metadata": {},
   "outputs": [],
   "source": []
  }
 ],
 "metadata": {
  "kernelspec": {
   "display_name": "Python 3",
   "language": "python",
   "name": "python3"
  },
  "language_info": {
   "codemirror_mode": {
    "name": "ipython",
    "version": 3
   },
   "file_extension": ".py",
   "mimetype": "text/x-python",
   "name": "python",
   "nbconvert_exporter": "python",
   "pygments_lexer": "ipython3",
   "version": "3.8.5"
  }
 },
 "nbformat": 4,
 "nbformat_minor": 4
}
