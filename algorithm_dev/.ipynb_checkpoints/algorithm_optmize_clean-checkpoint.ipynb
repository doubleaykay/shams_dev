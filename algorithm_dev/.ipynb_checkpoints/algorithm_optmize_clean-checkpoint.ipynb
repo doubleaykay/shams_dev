{
 "cells": [
  {
   "cell_type": "code",
   "execution_count": 1,
   "metadata": {},
   "outputs": [],
   "source": [
    "import numpy as np\n",
    "from math import pi, tau\n",
    "\n",
    "from datetime import datetime, timezone\n",
    "from tzwhere import tzwhere\n",
    "import pytz\n",
    "import suncalc\n",
    "\n",
    "from colorsys import hls_to_rgb\n",
    "from PIL import Image"
   ]
  },
  {
   "cell_type": "code",
   "execution_count": 2,
   "metadata": {},
   "outputs": [],
   "source": [
    "# array of UTC timestamps as naive datetime objects\n",
    "def base_date_arr(year: int):\n",
    "    start_time = np.datetime64(str(year))\n",
    "    end_time = np.datetime64(str(year + 1))\n",
    "\n",
    "    arr_dt_1d = np.arange(start_time, end_time, dtype='datetime64[m]').astype(datetime)  # 1D array\n",
    "\n",
    "    return arr_dt_1d"
   ]
  },
  {
   "cell_type": "code",
   "execution_count": 3,
   "metadata": {},
   "outputs": [],
   "source": [
    "# array of naive timestamps to array of time zone aware timestamps\n",
    "def to_utc(arr, lon, lat, use_dst: bool):\n",
    "    tz_str = tzwhere.tzwhere().tzNameAt(lon, lat)\n",
    "    tz = pytz.timezone(tz_str)\n",
    "\n",
    "    def one_dt_utc(dt):\n",
    "        return (dt - offset).replace(tzinfo=timezone.utc)\n",
    "\n",
    "    def one_dt_localized(dt):\n",
    "        return tz.localize(dt).astimezone(pytz.utc)\n",
    "\n",
    "    if use_dst:\n",
    "        return np.vectorize(one_dt_localized)(arr)\n",
    "    else:\n",
    "        # offset = tz.utcoffset(arr[0, 0], is_dst=False)\n",
    "        offset = tz.utcoffset(arr[0], is_dst=False)\n",
    "        return np.vectorize(one_dt_utc)(arr)"
   ]
  },
  {
   "cell_type": "code",
   "execution_count": 4,
   "metadata": {},
   "outputs": [],
   "source": [
    "# azimuth, altitude to color\n",
    "def get_color(azimuth, altitude, sunrise_jump=0.2, hue_shift=0.0):\n",
    "    # ranges from 0 (no jump) to 1 (day is all white, night all black)\n",
    "    assert 0 <= sunrise_jump <= 1, \"sunrise_jump must be between 0 and 1 inclusive\"\n",
    "\n",
    "    # can be any float, but values outside the range [0, 1) are redundant\n",
    "    # shifts all hues in the r -> g -> b -> r direction\n",
    "    assert isinstance(hue_shift, float), \"hue_shift must be a float\"\n",
    "\n",
    "    # yes, this could be simplified, and no, don't try to do it please.\n",
    "    altitude_scaled = (altitude / pi) * 2  # range [-1, 1]\n",
    "    altitude_scaled *= 1 - sunrise_jump\n",
    "    # altitude_scaled += sunrise_jump * (1 if altitude >= 0 else -1)  # range [-1, 1]\n",
    "    idx_alt_pos = altitude_scaled >= 0\n",
    "    idx_alt_neg = altitude_scaled < 0\n",
    "    #altitude_scaled[idx_alt_pos] += sunrise_jump * 1\n",
    "    #altitude_scaled[idx_alt_neg] += sunrise_jump * -1\n",
    "    altitude_scaled[idx_alt_pos] += sunrise_jump\n",
    "    altitude_scaled[idx_alt_neg] -= sunrise_jump\n",
    "    lightness = altitude_scaled / 2 + 0.5  # range [0, 1]\n",
    "\n",
    "    hue = ((azimuth / tau) + 0.5 + hue_shift) % 1  # range [0, 1]\n",
    "    \n",
    "    saturation = np.ones(hue.shape)\n",
    "    \n",
    "    r, g, b = np.vectorize(hls_to_rgb)(hue, lightness, saturation)\n",
    "    \n",
    "    r = np.round(255 * r)\n",
    "    g = np.round(255 * g)\n",
    "    b = np.round(255 * b)\n",
    "    \n",
    "    return r, g, b"
   ]
  },
  {
   "cell_type": "code",
   "execution_count": 5,
   "metadata": {},
   "outputs": [],
   "source": [
    "def stack_rgb(r, g, b):\n",
    "    new = np.empty((1440,365,3), dtype=np.uint8)\n",
    "    new[:,:,0] = r.reshape((-1,1440)).T\n",
    "    new[:,:,1] = g.reshape((-1,1440)).T\n",
    "    new[:,:,2] = b.reshape((-1,1440)).T\n",
    "    return new\n",
    "    #return np.vstack((r, g, b)).reshape((-1,), order='F').reshape((1440,365,3)).astype(np.uint8)"
   ]
  },
  {
   "cell_type": "code",
   "execution_count": 6,
   "metadata": {},
   "outputs": [],
   "source": [
    "# generate PNG using pixel data\n",
    "def gen_png(rgb_arr, width, height, file_name):\n",
    "    if not '.png' in file_name: file_name = file_name + '.png'\n",
    "    Image.fromarray(rgb_arr, mode=\"RGB\") \\\n",
    "        .resize((rgb_arr.shape[1], height), Image.BOX) \\\n",
    "        .resize((width, height), Image.NEAREST) \\\n",
    "        .save(file_name)"
   ]
  },
  {
   "cell_type": "code",
   "execution_count": 7,
   "metadata": {},
   "outputs": [
    {
     "name": "stdout",
     "output_type": "stream",
     "text": [
      "Building array of datetime objects...\n",
      "Took 0:00:00.038828\n",
      "Converting dates to UTC...\n"
     ]
    },
    {
     "name": "stderr",
     "output_type": "stream",
     "text": [
      "/home/anoush/.local/lib/python3.8/site-packages/numpy/core/_asarray.py:83: VisibleDeprecationWarning: Creating an ndarray from ragged nested sequences (which is a list-or-tuple of lists-or-tuples-or ndarrays with different lengths or shapes) is deprecated. If you meant to do this, you must specify 'dtype=object' when creating the ndarray\n",
      "  return array(a, dtype, copy=False, order=order)\n"
     ]
    },
    {
     "name": "stdout",
     "output_type": "stream",
     "text": [
      "Took 0:00:12.504849\n",
      "Calculating sun location...\n",
      "Took 0:00:00.231002\n",
      "Calculating colors...\n",
      "Took 0:00:00.481923\n",
      "Interleaving pixels...\n",
      "Took 0:00:00.003360\n",
      "Generating image...\n",
      "Took 0:00:00.208940\n"
     ]
    }
   ],
   "source": [
    "year = 2021\n",
    "\n",
    "img_title = 'Melbourne_new_6'\n",
    "lon = 144.9631\n",
    "lat = -37.8136\n",
    "\n",
    "width = 1920\n",
    "height = 1080\n",
    "\n",
    "print('Building array of datetime objects...')\n",
    "bef = datetime.now()\n",
    "arr_dt = base_date_arr(year)  # naive timestamps as datetime.datetime\n",
    "af = datetime.now() - bef\n",
    "print(f'Took {af}')\n",
    "\n",
    "print('Converting dates to UTC...')\n",
    "bef = datetime.now()\n",
    "arr_utc = to_utc(arr_dt, lat, lon, use_dst=True)\n",
    "af = datetime.now() - bef\n",
    "print(f'Took {af}')\n",
    "\n",
    "print('Calculating sun location...')\n",
    "bef = datetime.now()\n",
    "sc = suncalc.get_position(arr_utc, lon, lat)\n",
    "af = datetime.now() - bef\n",
    "print(f'Took {af}')\n",
    "\n",
    "# azi = sc['azimuth'].reshape((1440,-1))\n",
    "# alt = sc['altitude'].reshape((1440,-1))\n",
    "\n",
    "print('Calculating colors...')\n",
    "bef = datetime.now()\n",
    "r, g, b = get_color(sc['azimuth'], sc['altitude'], sunrise_jump=0.3, hue_shift=0.0)\n",
    "af = bef = datetime.now() - bef\n",
    "print(f'Took {af}')\n",
    "\n",
    "print('Interleaving pixels...')\n",
    "bef = datetime.now()\n",
    "pixels = stack_rgb(r, g, b)\n",
    "af = datetime.now() - bef\n",
    "print(f'Took {af}')\n",
    "\n",
    "print('Generating image...')\n",
    "bef = datetime.now()\n",
    "gen_png(pixels, width, height, img_title)\n",
    "af = datetime.now() - bef\n",
    "print(f'Took {af}')"
   ]
  },
  {
   "cell_type": "code",
   "execution_count": null,
   "metadata": {},
   "outputs": [],
   "source": []
  },
  {
   "cell_type": "code",
   "execution_count": null,
   "metadata": {},
   "outputs": [],
   "source": []
  },
  {
   "cell_type": "code",
   "execution_count": null,
   "metadata": {},
   "outputs": [],
   "source": []
  },
  {
   "cell_type": "code",
   "execution_count": null,
   "metadata": {},
   "outputs": [],
   "source": []
  },
  {
   "cell_type": "code",
   "execution_count": null,
   "metadata": {},
   "outputs": [],
   "source": []
  },
  {
   "cell_type": "code",
   "execution_count": null,
   "metadata": {},
   "outputs": [],
   "source": []
  },
  {
   "cell_type": "code",
   "execution_count": null,
   "metadata": {},
   "outputs": [],
   "source": []
  }
 ],
 "metadata": {
  "kernelspec": {
   "display_name": "Python 3",
   "language": "python",
   "name": "python3"
  },
  "language_info": {
   "codemirror_mode": {
    "name": "ipython",
    "version": 3
   },
   "file_extension": ".py",
   "mimetype": "text/x-python",
   "name": "python",
   "nbconvert_exporter": "python",
   "pygments_lexer": "ipython3",
   "version": "3.8.5"
  }
 },
 "nbformat": 4,
 "nbformat_minor": 4
}
